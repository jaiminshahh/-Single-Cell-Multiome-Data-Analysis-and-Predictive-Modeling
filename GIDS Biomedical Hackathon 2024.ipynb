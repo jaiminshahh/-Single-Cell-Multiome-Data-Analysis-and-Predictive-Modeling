{
 "cells": [
  {
   "cell_type": "markdown",
   "id": "0a73c85f",
   "metadata": {},
   "source": [
    "## Importing the Libraries"
   ]
  },
  {
   "cell_type": "code",
   "execution_count": null,
   "id": "9899fa50",
   "metadata": {},
   "outputs": [],
   "source": [
    "import pandas as pd\n",
    "from sklearn.decomposition import PCA\n",
    "from sklearn.ensemble import RandomForestClassifier\n",
    "from sklearn.model_selection import GridSearchCV, KFold\n",
    "from sklearn.metrics import make_scorer, matthews_corrcoef"
   ]
  },
  {
   "cell_type": "markdown",
   "id": "7fffa1b8",
   "metadata": {},
   "source": [
    "## Loading the Data"
   ]
  },
  {
   "cell_type": "code",
   "execution_count": null,
   "id": "faa2de35",
   "metadata": {},
   "outputs": [],
   "source": [
    "train = pd.read_csv(r\"C:\\Users\\jaimi\\Downloads\\Biomed Hackathon\\train.csv\", sep='\\t')\n",
    "test = pd.read_csv(r\"C:\\Users\\jaimi\\Downloads\\Tab_delimited_text\\Tab_delimited_text\\Hackathon2024.Testing.Set.Peak2Gene.Pairs.txt\\Hackathon2024.Testing.Set.Peak2Gene.Pairs.txt\", sep='\\t')\n",
    "meta_file_path = r\"C:\\Users\\jaimi\\Downloads\\Tab_delimited_text\\Tab_delimited_text\\Hackathon2024.Meta.txt\\Hackathon2024.Meta.txt\"\n",
    "atac_file_path = r\"C:\\Users\\jaimi\\Downloads\\Tab_delimited_text\\Tab_delimited_text\\Hackathon2024.ATAC.txt\\Hackathon2024.ATAC.txt\"\n",
    "rna_file_path = r\"C:\\Users\\jaimi\\Downloads\\Tab_delimited_text\\Tab_delimited_text\\Hackathon2024.RNA.txt\\Hackathon2024.RNA.txt\"\n",
    "\n",
    "# Load the metadata\n",
    "meta_df = pd.read_csv(meta_file_path, sep='\\t') \n",
    "atac_df = pd.read_csv(atac_file_path, sep='\\t') \n",
    "rna_df  = pd.read_csv(rna_file_path, sep='\\t') "
   ]
  },
  {
   "cell_type": "markdown",
   "id": "40255ef2",
   "metadata": {},
   "source": [
    "## Perfoming Dimensionality Reduction"
   ]
  },
  {
   "cell_type": "code",
   "execution_count": null,
   "id": "5949c316",
   "metadata": {},
   "outputs": [],
   "source": [
    "#For RNA data\n",
    "rna_numeric_df = rna_df.drop(columns=['gene'])  # Drop the 'gene' column\n",
    "\n",
    "# For ATAC data\n",
    "atac_numeric_df = atac_df.drop(columns=['peak'])  # Drop the 'peak' column\n",
    "\n",
    "# Applying PCA to RNA data\n",
    "pca_rna = PCA(n_components=0.95)  # To retain 95% of the variance\n",
    "rna_pca_result = pca_rna.fit_transform(rna_numeric_df)\n",
    "print(\"Number of components for RNA:\", rna_pca_result.shape[1])\n",
    "\n",
    "# Applying PCA to ATAC data\n",
    "pca_atac = PCA(n_components=0.95)  # To retain 95% of the variance\n",
    "atac_pca_result = pca_atac.fit_transform(atac_numeric_df)\n",
    "print(\"Number of components for ATAC:\", atac_pca_result.shape[1])"
   ]
  },
  {
   "cell_type": "code",
   "execution_count": null,
   "id": "814d84e7",
   "metadata": {},
   "outputs": [],
   "source": [
    "# For RNA data\n",
    "rna_pca_df = pd.DataFrame(rna_pca_result, columns=[f'PC_RNA{i+1}' for i in range(rna_pca_result.shape[1])])\n",
    "rna_pca_df['gene'] = rna_df['gene']\n",
    "\n",
    "# For ATAC data\n",
    "atac_pca_df = pd.DataFrame(atac_pca_result, columns=[f'PC_ATAC{i+1}' for i in range(atac_pca_result.shape[1])])\n",
    "atac_pca_df['peak'] = atac_df['peak']"
   ]
  },
  {
   "cell_type": "markdown",
   "id": "85cb1f17",
   "metadata": {},
   "source": [
    "## Merging the new Features"
   ]
  },
  {
   "cell_type": "code",
   "execution_count": null,
   "id": "9b8a0659",
   "metadata": {},
   "outputs": [],
   "source": [
    "# Performing an inner join on the 'gene' and 'atac' column\n",
    "train_df = pd.merge(train, rna_pca_df, on='gene', how='inner') \n",
    "train_df = pd.merge(train_df, atac_pca_df, on='peak', how='inner') \n",
    "\n",
    "\n",
    "test_df = pd.merge(test, rna_pca_df, on='gene', how='inner')  \n",
    "test_df = pd.merge(test_df, atac_pca_df, on='peak', how='inner')"
   ]
  },
  {
   "cell_type": "markdown",
   "id": "bf0fc693",
   "metadata": {},
   "source": [
    "## Feature Engineering"
   ]
  },
  {
   "cell_type": "code",
   "execution_count": null,
   "id": "37458c41",
   "metadata": {},
   "outputs": [],
   "source": [
    "# Extract start and end positions from the \"peak\" column\n",
    "train_df[['chromosome', 'start', 'end']] = train_df['peak'].str.extract(r'(chr[0-9XY]+)-(\\d+)-(\\d+)')\n",
    "\n",
    "# Convert start and end positions to integers for calculation\n",
    "train_df['start'] = train_df['start'].astype(int)\n",
    "train_df['end'] = train_df['end'].astype(int)\n",
    "\n",
    "# Calculate the genomic distance as the difference between end and start positions\n",
    "train_df['genomic_distance'] = train_df['end'] - train_df['start']"
   ]
  },
  {
   "cell_type": "code",
   "execution_count": null,
   "id": "83e19f3d",
   "metadata": {},
   "outputs": [],
   "source": [
    "# Extract start and end positions from the \"peak\" column\n",
    "test_df[['chromosome', 'start', 'end']] = test_df['peak'].str.extract(r'(chr[0-9XY]+)-(\\d+)-(\\d+)')\n",
    "\n",
    "# Convert start and end positions to integers for calculation\n",
    "test_df['start'] = test_df['start'].astype(int)\n",
    "test_df['end'] = test_df['end'].astype(int)\n",
    "\n",
    "# Calculate the genomic distance as the difference between end and start positions\n",
    "test_df['genomic_distance'] = test_df['end'] - test_df['start']"
   ]
  },
  {
   "cell_type": "code",
   "execution_count": null,
   "id": "cbfa9408",
   "metadata": {},
   "outputs": [],
   "source": [
    "train_df = train_df.drop(columns=['chromosome', 'start', 'end']) \n",
    "test_df = test_df.drop(columns=['chromosome', 'start', 'end'])"
   ]
  },
  {
   "cell_type": "markdown",
   "id": "287ecfc7",
   "metadata": {},
   "source": [
    "## Prediction Modeling "
   ]
  },
  {
   "cell_type": "code",
   "execution_count": null,
   "id": "79a8fc5a",
   "metadata": {},
   "outputs": [],
   "source": [
    "# Features: all columns except 'Peak2Gene' (target) and non-numeric columns\n",
    "X = train_df.drop(columns=['Peak2Gene', 'peak', 'gene', 'Pair'])\n",
    "\n",
    "# Target: 'Peak2Gene'\n",
    "y = train_df['Peak2Gene'].astype(int)  # Converting boolean to int for classification\n",
    "\n",
    "# Initialize Random Forest model\n",
    "rf_model = RandomForestClassifier(random_state=42)\n",
    "\n",
    "# Initialize KFold\n",
    "kf = KFold(n_splits=6, shuffle=True, random_state=42)\n",
    "\n",
    "# Define the parameter grid for GridSearchCV\n",
    "param_grid = {\n",
    "    'n_estimators': [100, 300, 500, 1000],\n",
    "    'max_depth': [None, 10, 20, 30],\n",
    "    'min_samples_split': [2, 5, 10],\n",
    "    'min_samples_leaf': [1, 2, 4],\n",
    "    'bootstrap': [True, False]\n",
    "}\n",
    "\n",
    "# Define MCC as the scoring metric\n",
    "mcc_scorer = make_scorer(matthews_corrcoef)\n",
    "\n",
    "# Initialize GridSearchCV with MCC as the scoring metric\n",
    "grid_search_mcc = GridSearchCV(estimator=rf_model, param_grid=param_grid, \n",
    "                               cv=kf, scoring=mcc_scorer, n_jobs=-1, verbose=2)\n",
    "\n",
    "# Fit the model\n",
    "grid_search_mcc.fit(X, y)\n",
    "\n",
    "# Output the best parameters and the best MCC score\n",
    "print(\"Best Parameters:\", grid_search_mcc.best_params_)\n",
    "print(\"Best MCC Score:\", grid_search_mcc.best_score_)"
   ]
  },
  {
   "cell_type": "markdown",
   "id": "359af7e7",
   "metadata": {},
   "source": [
    "## Fitting the best model"
   ]
  },
  {
   "cell_type": "code",
   "execution_count": null,
   "id": "af61e477",
   "metadata": {},
   "outputs": [],
   "source": [
    "# Best parameters from GridSearchCV\n",
    "best_params = {'bootstrap': False, 'max_depth': 10, 'min_samples_leaf': 2, 'min_samples_split': 10, 'n_estimators': 100}\n",
    "\n",
    "# Initialize the Random Forest model with the best parameters\n",
    "final_rf_model = RandomForestClassifier(**best_params, random_state=42)\n",
    "\n",
    "# Train the model on the entire training data\n",
    "final_rf_model.fit(X, y)"
   ]
  },
  {
   "cell_type": "markdown",
   "id": "a3abbf22",
   "metadata": {},
   "source": [
    "## Predicting outputs in Test Data"
   ]
  },
  {
   "cell_type": "code",
   "execution_count": null,
   "id": "274296ef",
   "metadata": {},
   "outputs": [],
   "source": [
    "X_test = test_df.drop(columns=['Peak2Gene', 'peak', 'gene', 'Pair'])\n",
    "\n",
    "# Make predictions on the test data\n",
    "test_predictions = final_rf_model.predict(X_test)"
   ]
  },
  {
   "cell_type": "code",
   "execution_count": null,
   "id": "0c562525",
   "metadata": {},
   "outputs": [],
   "source": [
    "# If you need to save or output the predictions\n",
    "test = test.drop(columns=['Peak2Gene'])\n",
    "test['Peak2Gene'] = test_predictions.astype(bool)\n",
    "test.to_csv('test_predictions.csv', index=False)"
   ]
  }
 ],
 "metadata": {
  "kernelspec": {
   "display_name": "Python 3 (ipykernel)",
   "language": "python",
   "name": "python3"
  },
  "language_info": {
   "codemirror_mode": {
    "name": "ipython",
    "version": 3
   },
   "file_extension": ".py",
   "mimetype": "text/x-python",
   "name": "python",
   "nbconvert_exporter": "python",
   "pygments_lexer": "ipython3",
   "version": "3.11.5"
  }
 },
 "nbformat": 4,
 "nbformat_minor": 5
}
